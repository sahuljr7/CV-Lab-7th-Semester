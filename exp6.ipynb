{
  "nbformat": 4,
  "nbformat_minor": 0,
  "metadata": {
    "colab": {
      "provenance": [],
      "include_colab_link": true
    },
    "kernelspec": {
      "name": "python3",
      "display_name": "Python 3"
    },
    "language_info": {
      "name": "python"
    }
  },
  "cells": [
    {
      "cell_type": "markdown",
      "metadata": {
        "id": "view-in-github",
        "colab_type": "text"
      },
      "source": [
        "<a href=\"https://colab.research.google.com/github/sahuljr7/CV-Lab-7th-Semester/blob/main/exp6.ipynb\" target=\"_parent\"><img src=\"https://colab.research.google.com/assets/colab-badge.svg\" alt=\"Open In Colab\"/></a>"
      ]
    },
    {
      "cell_type": "code",
      "execution_count": 1,
      "metadata": {
        "colab": {
          "base_uri": "https://localhost:8080/"
        },
        "id": "-9UtGzcoZIHh",
        "outputId": "a339b90e-7df3-4299-b90c-93ad527407ce"
      },
      "outputs": [
        {
          "output_type": "stream",
          "name": "stdout",
          "text": [
            "Downloading data from https://www.cs.toronto.edu/~kriz/cifar-10-python.tar.gz\n",
            "170498071/170498071 [==============================] - 2s 0us/step\n"
          ]
        },
        {
          "output_type": "stream",
          "name": "stderr",
          "text": [
            "/usr/local/lib/python3.10/dist-packages/sklearn/utils/validation.py:1143: DataConversionWarning: A column-vector y was passed when a 1d array was expected. Please change the shape of y to (n_samples, ), for example using ravel().\n",
            "  y = column_or_1d(y, warn=True)\n",
            "/usr/local/lib/python3.10/dist-packages/sklearn/utils/validation.py:1143: DataConversionWarning: A column-vector y was passed when a 1d array was expected. Please change the shape of y to (n_samples, ), for example using ravel().\n",
            "  y = column_or_1d(y, warn=True)\n"
          ]
        }
      ],
      "source": [
        "import cv2\n",
        "import numpy as np\n",
        "from sklearn.model_selection import train_test_split\n",
        "from sklearn.svm import SVC\n",
        "from sklearn.metrics import accuracy_score\n",
        "from sklearn.cluster import KMeans\n",
        "# Load the CIFAR-10 dataset\n",
        "from keras.datasets import cifar10\n",
        "(X_train, y_train), (X_test, y_test) = cifar10.load_data()\n",
        "# Reduce the dataset size for testing (you can adjust the sample size)\n",
        "sample_size = 2000 # Adjust as needed\n",
        "X_train, _, y_train, _ = train_test_split(X_train, y_train, train_size=sample_size,\n",
        "stratify=y_train, random_state=42)\n",
        "X_test, _, y_test, _ = train_test_split(X_test, y_test, train_size=sample_size,\n",
        "stratify=y_test, random_state=42)\n",
        "# Preprocess the images (resize to a common size and normalize)\n",
        "def preprocess_images(images):\n",
        "  processed_images = []\n",
        "  for image in images:\n",
        "    # Resize the image to a common size (e.g., 64x64)\n",
        "    resized_image = cv2.resize(image, (64, 64))\n",
        "\n",
        "    normalized_image = resized_image.astype('float32') / 255.0\n",
        "    processed_images.append(normalized_image)\n",
        "  return processed_images\n",
        "\n",
        "X_train = preprocess_images(X_train)\n",
        "X_test = preprocess_images(X_test)\n",
        "# ... (code for BoF feature extraction)\n",
        "# Initialize a classifier for both cases (with and without BoF)\n",
        "classifier_without_bof = SVC(kernel='linear')\n",
        "classifier_with_bof = SVC(kernel='linear')\n",
        "# Flatten the image data for the \"without Bag of Features\" case\n",
        "X_train_flat = np.array(X_train).reshape(len(X_train), -1)\n",
        "X_test_flat = np.array(X_test).reshape(len(X_test), -1)\n",
        "# Train the classifier without Bag of Features\n",
        "classifier_without_bof.fit(X_train_flat, y_train)\n",
        "# Make predictions on the test data without Bag of Features\n",
        "y_pred_without_bof = classifier_without_bof.predict(X_test_flat)\n",
        "# Calculate the accuracy without Bag of Features\n",
        "accuracy_without_bof = accuracy_score(y_test, y_pred_without_bof)\n",
        "\n",
        "\n",
        "encoded_X_train = np.random.rand(len(X_train), 100)\n",
        "encoded_X_test = np.random.rand(len(X_test), 100)\n",
        "# Train the classifier with Bag of Features (using the example encoded features)\n",
        "classifier_with_bof.fit(encoded_X_train, y_train)\n",
        "# Make predictions on the test data with Bag of Features\n",
        "y_pred_with_bof = classifier_with_bof.predict(encoded_X_test)"
      ]
    },
    {
      "cell_type": "code",
      "source": [
        "accuracy_with_bof = accuracy_score(y_test, y_pred_with_bof)\n",
        "# Print the results in the requested format\n",
        "print(f\"Classification Accuracy without Bag of Features: {accuracy_without_bof: .2f}\")\n",
        "print(f\"Classification Accuracy with Bag of Features: {accuracy_with_bof: .2f}\")"
      ],
      "metadata": {
        "id": "5fSjhgaGdfrJ",
        "outputId": "a42bed63-113b-4cb2-eb4a-b65d59934569",
        "colab": {
          "base_uri": "https://localhost:8080/"
        }
      },
      "execution_count": 2,
      "outputs": [
        {
          "output_type": "stream",
          "name": "stdout",
          "text": [
            "Classification Accuracy without Bag of Features:  0.29\n",
            "Classification Accuracy with Bag of Features:  0.10\n"
          ]
        }
      ]
    },
    {
      "cell_type": "code",
      "source": [],
      "metadata": {
        "id": "pu-mgBeTcyGv"
      },
      "execution_count": null,
      "outputs": []
    }
  ]
}